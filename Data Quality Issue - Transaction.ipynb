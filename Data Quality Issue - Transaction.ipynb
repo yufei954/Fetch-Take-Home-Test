{
 "cells": [
  {
   "cell_type": "markdown",
   "id": "ff4cf529-57c9-46f7-96ae-4ac710af13a6",
   "metadata": {},
   "source": [
    "# Import dataset and packages"
   ]
  },
  {
   "cell_type": "code",
   "execution_count": 2,
   "id": "b129b8ee-106c-4e00-a463-9a60e1e42162",
   "metadata": {},
   "outputs": [],
   "source": [
    "#Import \n",
    "import pandas as pd\n",
    "import numpy as np\n",
    "import matplotlib.pyplot as plt\n",
    "import seaborn as sns\n",
    "import os"
   ]
  },
  {
   "cell_type": "code",
   "execution_count": 3,
   "id": "dd3fdf2f-6326-4341-b1ea-c771a676120d",
   "metadata": {},
   "outputs": [
    {
     "data": {
      "text/html": [
       "<div>\n",
       "<style scoped>\n",
       "    .dataframe tbody tr th:only-of-type {\n",
       "        vertical-align: middle;\n",
       "    }\n",
       "\n",
       "    .dataframe tbody tr th {\n",
       "        vertical-align: top;\n",
       "    }\n",
       "\n",
       "    .dataframe thead th {\n",
       "        text-align: right;\n",
       "    }\n",
       "</style>\n",
       "<table border=\"1\" class=\"dataframe\">\n",
       "  <thead>\n",
       "    <tr style=\"text-align: right;\">\n",
       "      <th></th>\n",
       "      <th>RECEIPT_ID</th>\n",
       "      <th>PURCHASE_DATE</th>\n",
       "      <th>SCAN_DATE</th>\n",
       "      <th>STORE_NAME</th>\n",
       "      <th>USER_ID</th>\n",
       "      <th>BARCODE</th>\n",
       "      <th>FINAL_QUANTITY</th>\n",
       "      <th>FINAL_SALE</th>\n",
       "    </tr>\n",
       "  </thead>\n",
       "  <tbody>\n",
       "    <tr>\n",
       "      <th>0</th>\n",
       "      <td>0000d256-4041-4a3e-adc4-5623fb6e0c99</td>\n",
       "      <td>2024-08-21</td>\n",
       "      <td>2024-08-21 14:19:06.539 Z</td>\n",
       "      <td>WALMART</td>\n",
       "      <td>63b73a7f3d310dceeabd4758</td>\n",
       "      <td>1.530001e+10</td>\n",
       "      <td>1.00</td>\n",
       "      <td></td>\n",
       "    </tr>\n",
       "    <tr>\n",
       "      <th>1</th>\n",
       "      <td>0001455d-7a92-4a7b-a1d2-c747af1c8fd3</td>\n",
       "      <td>2024-07-20</td>\n",
       "      <td>2024-07-20 09:50:24.206 Z</td>\n",
       "      <td>ALDI</td>\n",
       "      <td>62c08877baa38d1a1f6c211a</td>\n",
       "      <td>NaN</td>\n",
       "      <td>zero</td>\n",
       "      <td>1.49</td>\n",
       "    </tr>\n",
       "    <tr>\n",
       "      <th>2</th>\n",
       "      <td>00017e0a-7851-42fb-bfab-0baa96e23586</td>\n",
       "      <td>2024-08-18</td>\n",
       "      <td>2024-08-19 15:38:56.813 Z</td>\n",
       "      <td>WALMART</td>\n",
       "      <td>60842f207ac8b7729e472020</td>\n",
       "      <td>7.874223e+10</td>\n",
       "      <td>1.00</td>\n",
       "      <td></td>\n",
       "    </tr>\n",
       "    <tr>\n",
       "      <th>3</th>\n",
       "      <td>000239aa-3478-453d-801e-66a82e39c8af</td>\n",
       "      <td>2024-06-18</td>\n",
       "      <td>2024-06-19 11:03:37.468 Z</td>\n",
       "      <td>FOOD LION</td>\n",
       "      <td>63fcd7cea4f8442c3386b589</td>\n",
       "      <td>7.833997e+11</td>\n",
       "      <td>zero</td>\n",
       "      <td>3.49</td>\n",
       "    </tr>\n",
       "    <tr>\n",
       "      <th>4</th>\n",
       "      <td>00026b4c-dfe8-49dd-b026-4c2f0fd5c6a1</td>\n",
       "      <td>2024-07-04</td>\n",
       "      <td>2024-07-05 15:56:43.549 Z</td>\n",
       "      <td>RANDALLS</td>\n",
       "      <td>6193231ae9b3d75037b0f928</td>\n",
       "      <td>4.790050e+10</td>\n",
       "      <td>1.00</td>\n",
       "      <td></td>\n",
       "    </tr>\n",
       "  </tbody>\n",
       "</table>\n",
       "</div>"
      ],
      "text/plain": [
       "                             RECEIPT_ID PURCHASE_DATE  \\\n",
       "0  0000d256-4041-4a3e-adc4-5623fb6e0c99    2024-08-21   \n",
       "1  0001455d-7a92-4a7b-a1d2-c747af1c8fd3    2024-07-20   \n",
       "2  00017e0a-7851-42fb-bfab-0baa96e23586    2024-08-18   \n",
       "3  000239aa-3478-453d-801e-66a82e39c8af    2024-06-18   \n",
       "4  00026b4c-dfe8-49dd-b026-4c2f0fd5c6a1    2024-07-04   \n",
       "\n",
       "                   SCAN_DATE STORE_NAME                   USER_ID  \\\n",
       "0  2024-08-21 14:19:06.539 Z    WALMART  63b73a7f3d310dceeabd4758   \n",
       "1  2024-07-20 09:50:24.206 Z       ALDI  62c08877baa38d1a1f6c211a   \n",
       "2  2024-08-19 15:38:56.813 Z    WALMART  60842f207ac8b7729e472020   \n",
       "3  2024-06-19 11:03:37.468 Z  FOOD LION  63fcd7cea4f8442c3386b589   \n",
       "4  2024-07-05 15:56:43.549 Z   RANDALLS  6193231ae9b3d75037b0f928   \n",
       "\n",
       "        BARCODE FINAL_QUANTITY FINAL_SALE  \n",
       "0  1.530001e+10           1.00             \n",
       "1           NaN           zero       1.49  \n",
       "2  7.874223e+10           1.00             \n",
       "3  7.833997e+11           zero       3.49  \n",
       "4  4.790050e+10           1.00             "
      ]
     },
     "execution_count": 3,
     "metadata": {},
     "output_type": "execute_result"
    }
   ],
   "source": [
    "transaction=pd.read_csv('C:/Users/YufeiLu/Downloads/TRANSACTION_TAKEHOME.csv')\n",
    "transaction.head()"
   ]
  },
  {
   "cell_type": "code",
   "execution_count": 3,
   "id": "4054ea9b-c575-4f30-af11-fa2fe3bc3d3c",
   "metadata": {},
   "outputs": [
    {
     "name": "stdout",
     "output_type": "stream",
     "text": [
      "<class 'pandas.core.frame.DataFrame'>\n",
      "RangeIndex: 50000 entries, 0 to 49999\n",
      "Data columns (total 8 columns):\n",
      " #   Column          Non-Null Count  Dtype  \n",
      "---  ------          --------------  -----  \n",
      " 0   RECEIPT_ID      50000 non-null  object \n",
      " 1   PURCHASE_DATE   50000 non-null  object \n",
      " 2   SCAN_DATE       50000 non-null  object \n",
      " 3   STORE_NAME      50000 non-null  object \n",
      " 4   USER_ID         50000 non-null  object \n",
      " 5   BARCODE         44238 non-null  float64\n",
      " 6   FINAL_QUANTITY  50000 non-null  object \n",
      " 7   FINAL_SALE      50000 non-null  object \n",
      "dtypes: float64(1), object(7)\n",
      "memory usage: 3.1+ MB\n"
     ]
    }
   ],
   "source": [
    "transaction.info()"
   ]
  },
  {
   "cell_type": "markdown",
   "id": "109566a2-21c5-429b-a34a-d7a9800f0665",
   "metadata": {},
   "source": [
    "# Check data types and convert if necessary"
   ]
  },
  {
   "cell_type": "code",
   "execution_count": 4,
   "id": "9b2bf2cc-b074-4348-910b-b161b034d016",
   "metadata": {},
   "outputs": [],
   "source": [
    "# Convert IDs to string.\n",
    "transaction['BARCODE']=transaction['BARCODE'].astype(str)\n",
    "transaction['RECEIPT_ID']=transaction['RECEIPT_ID'].astype(str)\n",
    "transaction['USER_ID']=transaction['USER_ID'].astype(str)\n",
    "# Convert Dates to datetime.\n",
    "transaction['PURCHASE_DATE'] = pd.to_datetime(transaction['PURCHASE_DATE'])\n",
    "transaction['SCAN_DATE'] = pd.to_datetime(transaction['SCAN_DATE'])"
   ]
  },
  {
   "cell_type": "markdown",
   "id": "e64e33f8-78fe-49a2-9624-5718ee3b8660",
   "metadata": {},
   "source": [
    "# Check Final Quantity and Final Sale first\n",
    "Saw some empty values in final_sale and 'zero' in final_quantity"
   ]
  },
  {
   "cell_type": "code",
   "execution_count": 5,
   "id": "fd169955-cde0-4d1a-b1b5-5236fb6310cb",
   "metadata": {},
   "outputs": [],
   "source": [
    "# There're some empty values according to previous code, make sure we can detect every missing value.\n",
    "transaction['FINAL_SALE'] = transaction['FINAL_SALE'].replace('', np.nan).replace(r'^\\s*$', np.nan, regex=True)"
   ]
  },
  {
   "cell_type": "code",
   "execution_count": 6,
   "id": "97322722-2ad0-44fa-b7b1-6b32292a6ea4",
   "metadata": {},
   "outputs": [],
   "source": [
    "transaction['FINAL_SALE']=transaction['FINAL_SALE'].astype(float)"
   ]
  },
  {
   "cell_type": "code",
   "execution_count": 7,
   "id": "69cdff5b-3eb3-4c37-9dd3-a03b01660c76",
   "metadata": {},
   "outputs": [
    {
     "data": {
      "text/plain": [
       "FINAL_QUANTITY\n",
       "1.00    0.71396\n",
       "zero    0.25000\n",
       "2.00    0.02570\n",
       "3.00    0.00368\n",
       "4.00    0.00278\n",
       "         ...   \n",
       "6.22    0.00002\n",
       "1.22    0.00002\n",
       "1.23    0.00002\n",
       "2.57    0.00002\n",
       "2.27    0.00002\n",
       "Name: count, Length: 87, dtype: float64"
      ]
     },
     "execution_count": 7,
     "metadata": {},
     "output_type": "execute_result"
    }
   ],
   "source": [
    "# There're some 'zero' in final quantity, check the unique value and percentage and change to numbers. \n",
    "transaction['FINAL_QUANTITY'].value_counts()/len(transaction)"
   ]
  },
  {
   "cell_type": "code",
   "execution_count": 8,
   "id": "085f022a-0faf-4034-843a-bb307173caf8",
   "metadata": {},
   "outputs": [],
   "source": [
    "# Change 'zero' to 0\n",
    "transaction['FINAL_QUANTITY']=transaction['FINAL_QUANTITY'].replace('zero',0)"
   ]
  },
  {
   "cell_type": "code",
   "execution_count": 9,
   "id": "c63ed029-39b9-41d0-91f8-c106aa9d7c57",
   "metadata": {},
   "outputs": [],
   "source": [
    "transaction['FINAL_QUANTITY']=transaction['FINAL_QUANTITY'].astype(float)"
   ]
  },
  {
   "cell_type": "code",
   "execution_count": 10,
   "id": "c3f5c416-5c62-46aa-ad1f-a294e7e12b82",
   "metadata": {},
   "outputs": [
    {
     "data": {
      "text/plain": [
       "RECEIPT_ID            0\n",
       "PURCHASE_DATE         0\n",
       "SCAN_DATE             0\n",
       "STORE_NAME            0\n",
       "USER_ID               0\n",
       "BARCODE               0\n",
       "FINAL_QUANTITY        0\n",
       "FINAL_SALE        12500\n",
       "dtype: int64"
      ]
     },
     "execution_count": 10,
     "metadata": {},
     "output_type": "execute_result"
    }
   ],
   "source": [
    "transaction.isnull().sum()\n",
    "## There're 12500 missing values in Final_Sale. Is it data error, e.g. not loading in right, or does it mean failed transaction? \n",
    "## Is it something to do with the Final_Quantity? Should Final_quantity be integer only?"
   ]
  },
  {
   "cell_type": "code",
   "execution_count": 11,
   "id": "e63e3673-b09b-4569-9705-251fae704b75",
   "metadata": {},
   "outputs": [
    {
     "name": "stdout",
     "output_type": "stream",
     "text": [
      "Non-integer final quantity has 110 count, which is 0.22 % of all final quantity\n"
     ]
    }
   ],
   "source": [
    "# Explore final quantity - should it be integer only?\n",
    "transaction['quant_numeric'] = pd.to_numeric(transaction['FINAL_QUANTITY'], errors='coerce')\n",
    "non_integer_count = transaction[~transaction['quant_numeric'].isnull() & (transaction['quant_numeric'] % 1 != 0)].shape[0]\n",
    "print(f'Non-integer final quantity has {non_integer_count} count, which is {non_integer_count/len(transaction)*100} % of all final quantity')"
   ]
  },
  {
   "cell_type": "code",
   "execution_count": 12,
   "id": "816ab2f0-2b79-4299-80e6-15f38abfe6e5",
   "metadata": {},
   "outputs": [],
   "source": [
    "## Only 0.22% of final quantity (110 count) is non-integer, I'd remove these numbers because it could be some errors.\n",
    "transaction=transaction[transaction['quant_numeric'].isnull()==0]"
   ]
  },
  {
   "cell_type": "code",
   "execution_count": null,
   "id": "c265b1ee-055f-4d65-830f-6f951fe3b30c",
   "metadata": {},
   "outputs": [],
   "source": [
    "# Don't think non-integer final quantity caused empty final sale because the counts don't match. "
   ]
  },
  {
   "cell_type": "markdown",
   "id": "b4a21124-4417-4e0a-a8e6-2c8fef99d2c2",
   "metadata": {},
   "source": [
    "# Check purchase date and scan date\n",
    "Saw the two dates didn't match from previous code."
   ]
  },
  {
   "cell_type": "code",
   "execution_count": 42,
   "id": "aaba4b21-7c84-4e5a-a8df-ac7bd97dc8fd",
   "metadata": {},
   "outputs": [],
   "source": [
    "# Create a new column that compare the two date fields\n",
    "transaction['date_same']=(transaction['PURCHASE_DATE'].dt.date==transaction['SCAN_DATE'].dt.date)"
   ]
  },
  {
   "cell_type": "code",
   "execution_count": 43,
   "id": "65d1bc59-e529-465d-a246-17ac7444f571",
   "metadata": {},
   "outputs": [
    {
     "data": {
      "text/plain": [
       "date_same\n",
       "False    0.52356\n",
       "True     0.47644\n",
       "Name: count, dtype: float64"
      ]
     },
     "execution_count": 43,
     "metadata": {},
     "output_type": "execute_result"
    }
   ],
   "source": [
    "# Percentage of whether the two dates match.\n",
    "transaction['date_same'].value_counts()/len(transaction)\n",
    "## 52% of the transaction don't have the same purchase date and scan date, which is very concerning. Is there a data lag or error?\n",
    "## Here I'll use scan date because it has more detailed date information like the specific time."
   ]
  },
  {
   "cell_type": "markdown",
   "id": "cbb677d1-2b2a-44fe-9174-74f42728ddfe",
   "metadata": {},
   "source": [
    "# Which year has the most transaction?"
   ]
  },
  {
   "cell_type": "code",
   "execution_count": 13,
   "id": "d530d70b-e02c-4778-b811-5fbd806b0cd4",
   "metadata": {},
   "outputs": [
    {
     "data": {
      "text/plain": [
       "SCAN_DATE\n",
       "2024    50000\n",
       "Name: count, dtype: int64"
      ]
     },
     "execution_count": 13,
     "metadata": {},
     "output_type": "execute_result"
    }
   ],
   "source": [
    "transaction['SCAN_DATE'].dt.year.value_counts().sort_index()\n",
    "## This table only has transaction in 2024. Use Month instead."
   ]
  },
  {
   "cell_type": "code",
   "execution_count": 14,
   "id": "3ad737c5-0ab3-4b6f-a1a7-31a61baadcd4",
   "metadata": {},
   "outputs": [
    {
     "data": {
      "text/plain": [
       "SCAN_DATE\n",
       "6     9454\n",
       "7    18774\n",
       "8    17252\n",
       "9     4520\n",
       "Name: count, dtype: int64"
      ]
     },
     "execution_count": 14,
     "metadata": {},
     "output_type": "execute_result"
    }
   ],
   "source": [
    "transaction_per_month=transaction['SCAN_DATE'].dt.month.value_counts().sort_index()\n",
    "transaction_per_month\n",
    "## This table only has transaction from June 2024."
   ]
  },
  {
   "cell_type": "code",
   "execution_count": 103,
   "id": "b0251786-34a8-4e8a-bbc0-3bdda3398f86",
   "metadata": {},
   "outputs": [
    {
     "data": {
      "image/png": "[encoded data removed]",
      "text/plain": [
       "<Figure size 700x400 with 1 Axes>"
      ]
     },
     "metadata": {},
     "output_type": "display_data"
    }
   ],
   "source": [
    "plt.figure(figsize=(7, 4))\n",
    "sns.barplot(x=transaction_per_month.index,y=transaction_per_month.values)\n",
    "plt.title('Scan Date Transaction Count')\n",
    "plt.xlabel('Scan Date')\n",
    "plt.ylabel('Number of Transactions')\n",
    "plt.tight_layout()\n",
    "plt.show()\n",
    "## July and August are higher than the other two months. May need more data to decide if there's a seasonality."
   ]
  },
  {
   "cell_type": "markdown",
   "id": "7baf2b99-1cc4-4f6e-962d-bcd79fb30c74",
   "metadata": {},
   "source": [
    "# Check duplicated value"
   ]
  },
  {
   "cell_type": "code",
   "execution_count": 12,
   "id": "396b9fb8-e26c-4adf-ae76-92c68049103e",
   "metadata": {},
   "outputs": [
    {
     "data": {
      "text/plain": [
       "171"
      ]
     },
     "execution_count": 12,
     "metadata": {},
     "output_type": "execute_result"
    }
   ],
   "source": [
    "transaction.duplicated().sum()\n",
    "## Drop duplicates"
   ]
  },
  {
   "cell_type": "code",
   "execution_count": 76,
   "id": "c8e06c63-c50d-4345-9785-18c8e9bd40b0",
   "metadata": {},
   "outputs": [],
   "source": [
    "transaction=transaction.drop_duplicates()"
   ]
  },
  {
   "cell_type": "markdown",
   "id": "6a34719c-cbfa-44ec-a8e9-efa613d854c2",
   "metadata": {},
   "source": [
    "# Examine categorical variable"
   ]
  },
  {
   "cell_type": "code",
   "execution_count": 21,
   "id": "33749f43-490f-4e2d-8424-1c2f782f23d9",
   "metadata": {},
   "outputs": [
    {
     "data": {
      "text/plain": [
       "STORE_NAME\n",
       "WALMART                   42.652\n",
       "DOLLAR GENERAL STORE       5.496\n",
       "ALDI                       5.280\n",
       "KROGER                     2.988\n",
       "TARGET                     2.968\n",
       "                           ...  \n",
       "SPIRITS                    0.004\n",
       "LA GLORIA SUPERMERCADO     0.004\n",
       "FARM FRESH                 0.004\n",
       "ALTA                       0.004\n",
       "PLATEAU TRAVEL CENTER      0.004\n",
       "Name: count, Length: 954, dtype: float64"
      ]
     },
     "execution_count": 21,
     "metadata": {},
     "output_type": "execute_result"
    }
   ],
   "source": [
    "store_pct=transaction['STORE_NAME'].value_counts()/len(transaction)*100\n",
    "store_pct\n",
    "## 42% of the transaction were in Walmart."
   ]
  },
  {
   "cell_type": "code",
   "execution_count": 23,
   "id": "8ad9ffbc-1044-4f4e-8785-bb4e043cf487",
   "metadata": {},
   "outputs": [
    {
     "name": "stderr",
     "output_type": "stream",
     "text": [
      "C:\\Users\\YufeiLu\\AppData\\Local\\Temp\\ipykernel_11232\\3894892508.py:10: FutureWarning: Series.__getitem__ treating keys as positions is deprecated. In a future version, integer keys will always be treated as labels (consistent with DataFrame behavior). To access a value by position, use `ser.iloc[pos]`\n",
      "  plt.text(index, value + 1, f\"{top5_storepct['Percentage'][index]:.1f}%\", ha='center')\n"
     ]
    },
    {
     "data": {
      "text/plain": [
       "(0.0, 47.652)"
      ]
     },
     "execution_count": 23,
     "metadata": {},
     "output_type": "execute_result"
    },
    {
     "data": {
      "image/png": "[encoded data removed]",
      "text/plain": [
       "<Figure size 800x600 with 1 Axes>"
      ]
     },
     "metadata": {},
     "output_type": "display_data"
    }
   ],
   "source": [
    "# Convert to dataframe\n",
    "store_pct=pd.DataFrame(store_pct)\n",
    "store_pct.columns=['Percentage']\n",
    "# Data Visualization to show top 5 categories\n",
    "top5_storepct=store_pct.nlargest(5,'Percentage') # Get top 5 categories\n",
    "plt.figure(figsize=(8,6))\n",
    "plt.bar(top5_storepct.index, top5_storepct['Percentage'], color='skyblue') # Bar chart\n",
    "\n",
    "for index, value in enumerate(top5_storepct['Percentage']):\n",
    "    plt.text(index, value + 1, f\"{top5_storepct['Percentage'][index]:.1f}%\", ha='center')\n",
    "\n",
    "plt.xlabel('Store Name')\n",
    "plt.ylabel('Percentage')\n",
    "plt.title('Top 5 Stores that Had Most Transaction')\n",
    "plt.tight_layout()\n",
    "plt.ylim(0, top5_storepct['Percentage'].max() + 5)\n",
    "\n",
    "## 42.7% transaction was scanned in Walmart. It is the most leading store."
   ]
  },
  {
   "cell_type": "markdown",
   "id": "f6025d14-de53-4dc0-ae01-12fc69bfa759",
   "metadata": {},
   "source": [
    "# Check outliers in numercal variables"
   ]
  },
  {
   "cell_type": "code",
   "execution_count": 79,
   "id": "6a40924a-7f72-401f-a05e-954b1f54365d",
   "metadata": {},
   "outputs": [
    {
     "data": {
      "image/png": "[encoded data removed]",
      "text/plain": [
       "<Figure size 640x480 with 1 Axes>"
      ]
     },
     "metadata": {},
     "output_type": "display_data"
    }
   ],
   "source": [
    "# Check final sale\n",
    "plt.boxplot(transaction['FINAL_SALE'].dropna())\n",
    "plt.title('Box plot of final sale')\n",
    "plt.ylabel('Final Sale ($)')\n",
    "plt.show()\n",
    "## Can set arbitrary percentile to remove outliers based on domain knowledge, but here I'll use 3 standard deviation to remove outliers. "
   ]
  },
  {
   "cell_type": "code",
   "execution_count": 71,
   "id": "34c64eef-f6f0-4e8a-8d09-38706d55a820",
   "metadata": {},
   "outputs": [
    {
     "data": {
      "image/png": "[encoded data removed]",
      "text/plain": [
       "<Figure size 640x480 with 1 Axes>"
      ]
     },
     "metadata": {},
     "output_type": "display_data"
    }
   ],
   "source": [
    "# Check final quantity\n",
    "plt.boxplot(transaction['FINAL_QUANTITY'].dropna())\n",
    "plt.title('Box plot of final quantity')\n",
    "plt.ylabel('Final Quantity')\n",
    "plt.show()\n",
    "## Also use 3 standard deviation to remove outliers."
   ]
  },
  {
   "cell_type": "code",
   "execution_count": 80,
   "id": "d65eec62-bb2d-4083-bf2d-daf63511ebd1",
   "metadata": {},
   "outputs": [],
   "source": [
    "# Create function to get the lower and upper bound for outliers.\n",
    "def outlier_bound (df,col) :\n",
    "    mean = df[col].mean()\n",
    "    std = df[col].std()\n",
    "    lower_bound=mean-3*std\n",
    "    upper_bound=mean+3*std\n",
    "    return lower_bound, upper_bound"
   ]
  },
  {
   "cell_type": "code",
   "execution_count": 81,
   "id": "18c2acad-cfe9-4339-85e8-8abfbed498ec",
   "metadata": {},
   "outputs": [
    {
     "data": {
      "text/plain": [
       "(-6.932490231358178, 15.307034946805333)"
      ]
     },
     "execution_count": 81,
     "metadata": {},
     "output_type": "execute_result"
    }
   ],
   "source": [
    "# Double check the bound for final_sale\n",
    "outlier_bound(transaction,'FINAL_SALE')\n",
    "# It doesn't make sense that final sale has negative number, so I will use 0 as the lower bound."
   ]
  },
  {
   "cell_type": "code",
   "execution_count": 82,
   "id": "f20164e6-aa48-44a2-87c5-6f918c72ec5a",
   "metadata": {},
   "outputs": [],
   "source": [
    "# Remove outliers based on final_sale.\n",
    "transaction=transaction[(transaction['FINAL_SALE']>=0) & \n",
    "(transaction['FINAL_SALE']<=outlier_bound(transaction,'FINAL_SALE')[1])]"
   ]
  },
  {
   "cell_type": "code",
   "execution_count": 83,
   "id": "7fe58d2d-4f58-41f0-a3a9-8e9a0f82af71",
   "metadata": {},
   "outputs": [
    {
     "data": {
      "text/plain": [
       "(-0.9660481874567585, 2.372462097408707)"
      ]
     },
     "execution_count": 83,
     "metadata": {},
     "output_type": "execute_result"
    }
   ],
   "source": [
    "# Double check the bound for final_quantity\n",
    "outlier_bound(transaction,'FINAL_QUANTITY')\n",
    "# It doesn't make sense that final quantity has negative number, so I will use 0 as the lower bound."
   ]
  },
  {
   "cell_type": "code",
   "execution_count": 84,
   "id": "33c718ff-5ad8-448c-a8b9-406ad0dc0073",
   "metadata": {},
   "outputs": [],
   "source": [
    "# Remove outliers based on final_sale.\n",
    "transaction=transaction[(transaction['FINAL_QUANTITY']>=0) & \n",
    "(transaction['FINAL_QUANTITY']<=outlier_bound(transaction,'FINAL_QUANTITY')[1])]"
   ]
  },
  {
   "cell_type": "code",
   "execution_count": 72,
   "id": "390eed47-185d-4de3-aa08-e1653fbca2b8",
   "metadata": {},
   "outputs": [],
   "source": [
    "## Notes that we can definitely be bold by setting a lower percentile for outliers once we have more domain context."
   ]
  },
  {
   "cell_type": "markdown",
   "id": "5a0dcf1f-e8af-43a6-86dc-141a43fe15b1",
   "metadata": {},
   "source": [
    "# Write cleaned dataframe to csv and save"
   ]
  },
  {
   "cell_type": "code",
   "execution_count": 107,
   "id": "edefbedc-5247-4356-a471-ce6900b1af29",
   "metadata": {},
   "outputs": [],
   "source": [
    "# Gets the current working directory\n",
    "original_path = os.getcwd()  \n",
    "\n",
    "# Write DataFrame to CSV in the original path\n",
    "transaction.to_csv(os.path.join(original_path, 'transaction.csv'), index=False)"
   ]
  },
  {
   "cell_type": "markdown",
   "id": "86369f85-59d0-474d-99d0-15a53a2d3af2",
   "metadata": {},
   "source": [
    "# Insights\n",
    "1. 42.7% of the transaction were made in Walmart.\n",
    "2. July transaction count is 1.5 times than June transaction count. However, we do need more data to see if there's a seasonality.\n",
    "# Issues\n",
    "1. The data type is not consistent in Final_sale that it shows 'zero' instead of 0.\n",
    "2. Missing values in final_sale. Need to find out if failed transaction is included or is it because of data ETL problem.\n",
    "3. 52% of the transaction don't have a matched purchase_date and scan_date. Could it be data lag or some business rule?\n",
    "4. Small percentage of final_quantity and final_sale have negative numbers. Already removed the outliers. "
   ]
  }
 ],
 "metadata": {
  "kernelspec": {
   "display_name": "Python 3 (ipykernel)",
   "language": "python",
   "name": "python3"
  },
  "language_info": {
   "codemirror_mode": {
    "name": "ipython",
    "version": 3
   },
   "file_extension": ".py",
   "mimetype": "text/x-python",
   "name": "python",
   "nbconvert_exporter": "python",
   "pygments_lexer": "ipython3",
   "version": "3.11.7"
  }
 },
 "nbformat": 4,
 "nbformat_minor": 5
}
