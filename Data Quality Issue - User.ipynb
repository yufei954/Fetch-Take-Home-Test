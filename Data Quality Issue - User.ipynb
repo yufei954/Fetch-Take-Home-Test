{
 "cells": [
  {
   "cell_type": "markdown",
   "id": "9f8d8d6c-1b07-48dd-9992-f8ac3230c91e",
   "metadata": {},
   "source": [
    "# Import dataset and packages"
   ]
  },
  {
   "cell_type": "code",
   "execution_count": 2,
   "id": "54a26f51-1e52-4ebe-8468-60066310a524",
   "metadata": {},
   "outputs": [],
   "source": [
    "#Import \n",
    "import pandas as pd\n",
    "import numpy as np\n",
    "import matplotlib.pyplot as plt\n",
    "from matplotlib.ticker import FuncFormatter\n",
    "import seaborn as sns\n",
    "import os"
   ]
  },
  {
   "cell_type": "code",
   "execution_count": 3,
   "id": "2482f75e-b855-4a37-b8dd-dbe95985bb4e",
   "metadata": {},
   "outputs": [
    {
     "data": {
      "text/html": [
       "<div>\n",
       "<style scoped>\n",
       "    .dataframe tbody tr th:only-of-type {\n",
       "        vertical-align: middle;\n",
       "    }\n",
       "\n",
       "    .dataframe tbody tr th {\n",
       "        vertical-align: top;\n",
       "    }\n",
       "\n",
       "    .dataframe thead th {\n",
       "        text-align: right;\n",
       "    }\n",
       "</style>\n",
       "<table border=\"1\" class=\"dataframe\">\n",
       "  <thead>\n",
       "    <tr style=\"text-align: right;\">\n",
       "      <th></th>\n",
       "      <th>ID</th>\n",
       "      <th>CREATED_DATE</th>\n",
       "      <th>BIRTH_DATE</th>\n",
       "      <th>STATE</th>\n",
       "      <th>LANGUAGE</th>\n",
       "      <th>GENDER</th>\n",
       "    </tr>\n",
       "  </thead>\n",
       "  <tbody>\n",
       "    <tr>\n",
       "      <th>0</th>\n",
       "      <td>5ef3b4f17053ab141787697d</td>\n",
       "      <td>2020-06-24 20:17:54.000 Z</td>\n",
       "      <td>2000-08-11 00:00:00.000 Z</td>\n",
       "      <td>CA</td>\n",
       "      <td>es-419</td>\n",
       "      <td>female</td>\n",
       "    </tr>\n",
       "    <tr>\n",
       "      <th>1</th>\n",
       "      <td>5ff220d383fcfc12622b96bc</td>\n",
       "      <td>2021-01-03 19:53:55.000 Z</td>\n",
       "      <td>2001-09-24 04:00:00.000 Z</td>\n",
       "      <td>PA</td>\n",
       "      <td>en</td>\n",
       "      <td>female</td>\n",
       "    </tr>\n",
       "    <tr>\n",
       "      <th>2</th>\n",
       "      <td>6477950aa55bb77a0e27ee10</td>\n",
       "      <td>2023-05-31 18:42:18.000 Z</td>\n",
       "      <td>1994-10-28 00:00:00.000 Z</td>\n",
       "      <td>FL</td>\n",
       "      <td>es-419</td>\n",
       "      <td>female</td>\n",
       "    </tr>\n",
       "    <tr>\n",
       "      <th>3</th>\n",
       "      <td>658a306e99b40f103b63ccf8</td>\n",
       "      <td>2023-12-26 01:46:22.000 Z</td>\n",
       "      <td>NaN</td>\n",
       "      <td>NC</td>\n",
       "      <td>en</td>\n",
       "      <td>NaN</td>\n",
       "    </tr>\n",
       "    <tr>\n",
       "      <th>4</th>\n",
       "      <td>653cf5d6a225ea102b7ecdc2</td>\n",
       "      <td>2023-10-28 11:51:50.000 Z</td>\n",
       "      <td>1972-03-19 00:00:00.000 Z</td>\n",
       "      <td>PA</td>\n",
       "      <td>en</td>\n",
       "      <td>female</td>\n",
       "    </tr>\n",
       "  </tbody>\n",
       "</table>\n",
       "</div>"
      ],
      "text/plain": [
       "                         ID               CREATED_DATE  \\\n",
       "0  5ef3b4f17053ab141787697d  2020-06-24 20:17:54.000 Z   \n",
       "1  5ff220d383fcfc12622b96bc  2021-01-03 19:53:55.000 Z   \n",
       "2  6477950aa55bb77a0e27ee10  2023-05-31 18:42:18.000 Z   \n",
       "3  658a306e99b40f103b63ccf8  2023-12-26 01:46:22.000 Z   \n",
       "4  653cf5d6a225ea102b7ecdc2  2023-10-28 11:51:50.000 Z   \n",
       "\n",
       "                  BIRTH_DATE STATE LANGUAGE  GENDER  \n",
       "0  2000-08-11 00:00:00.000 Z    CA   es-419  female  \n",
       "1  2001-09-24 04:00:00.000 Z    PA       en  female  \n",
       "2  1994-10-28 00:00:00.000 Z    FL   es-419  female  \n",
       "3                        NaN    NC       en     NaN  \n",
       "4  1972-03-19 00:00:00.000 Z    PA       en  female  "
      ]
     },
     "execution_count": 3,
     "metadata": {},
     "output_type": "execute_result"
    }
   ],
   "source": [
    "user=pd.read_csv('C:/Users/YufeiLu/Downloads/USER_TAKEHOME.csv')\n",
    "user.head()"
   ]
  },
  {
   "cell_type": "code",
   "execution_count": 13,
   "id": "b6034f62-2714-4a93-adaf-065be8df909c",
   "metadata": {},
   "outputs": [
    {
     "name": "stdout",
     "output_type": "stream",
     "text": [
      "<class 'pandas.core.frame.DataFrame'>\n",
      "RangeIndex: 100000 entries, 0 to 99999\n",
      "Data columns (total 6 columns):\n",
      " #   Column        Non-Null Count   Dtype              \n",
      "---  ------        --------------   -----              \n",
      " 0   ID            100000 non-null  object             \n",
      " 1   CREATED_DATE  100000 non-null  datetime64[ns, UTC]\n",
      " 2   BIRTH_DATE    96325 non-null   datetime64[ns, UTC]\n",
      " 3   STATE         95188 non-null   object             \n",
      " 4   LANGUAGE      69492 non-null   object             \n",
      " 5   GENDER        94108 non-null   object             \n",
      "dtypes: datetime64[ns, UTC](2), object(4)\n",
      "memory usage: 4.6+ MB\n"
     ]
    }
   ],
   "source": [
    "user.info()"
   ]
  },
  {
   "cell_type": "markdown",
   "id": "6d2d7562-2187-4845-8827-9a72da644843",
   "metadata": {},
   "source": [
    "# Check datatypes and change if necessary"
   ]
  },
  {
   "cell_type": "code",
   "execution_count": 5,
   "id": "3f3419ab-ee42-4ca3-9d3c-21999b064aa7",
   "metadata": {},
   "outputs": [
    {
     "data": {
      "text/plain": [
       "ID              object\n",
       "CREATED_DATE    object\n",
       "BIRTH_DATE      object\n",
       "STATE           object\n",
       "LANGUAGE        object\n",
       "GENDER          object\n",
       "dtype: object"
      ]
     },
     "execution_count": 5,
     "metadata": {},
     "output_type": "execute_result"
    }
   ],
   "source": [
    "user.dtypes\n",
    "## Recommendation: Better if data type for created date, birth date are date"
   ]
  },
  {
   "cell_type": "code",
   "execution_count": 4,
   "id": "0a9e96fe-0b35-422f-b4d9-9e5853d5a1db",
   "metadata": {},
   "outputs": [],
   "source": [
    "user['CREATED_DATE'] = pd.to_datetime(user['CREATED_DATE'])\n",
    "user['BIRTH_DATE'] = pd.to_datetime(user['BIRTH_DATE'])\n",
    "user['ID'] = user['ID'].astype(str)\n"
   ]
  },
  {
   "cell_type": "markdown",
   "id": "5939e5a2-c6e4-4687-9fe3-3f8f9b2ad54f",
   "metadata": {},
   "source": [
    "# Check missing value"
   ]
  },
  {
   "cell_type": "code",
   "execution_count": 9,
   "id": "82ce2095-6603-44b9-8a87-338eb49ae491",
   "metadata": {},
   "outputs": [
    {
     "data": {
      "text/plain": [
       "ID                  0\n",
       "CREATED_DATE        0\n",
       "BIRTH_DATE       3675\n",
       "STATE            4812\n",
       "LANGUAGE        30508\n",
       "GENDER           5892\n",
       "dtype: int64"
      ]
     },
     "execution_count": 9,
     "metadata": {},
     "output_type": "execute_result"
    }
   ],
   "source": [
    "user.isnull().sum()\n",
    "## Found some missing values in user information, however, there're no missing value in user ID and created date.\n"
   ]
  },
  {
   "cell_type": "code",
   "execution_count": 10,
   "id": "68349252-18ae-415f-b015-106c32d9c974",
   "metadata": {},
   "outputs": [
    {
     "data": {
      "text/plain": [
       "ID               0.000\n",
       "CREATED_DATE     0.000\n",
       "BIRTH_DATE       3.675\n",
       "STATE            4.812\n",
       "LANGUAGE        30.508\n",
       "GENDER           5.892\n",
       "dtype: float64"
      ]
     },
     "execution_count": 10,
     "metadata": {},
     "output_type": "execute_result"
    }
   ],
   "source": [
    "# What's the percentage of missing value in each column? This helps to decide what user demographic information would be informative in later analysis. \n",
    "user.isnull().mean() * 100\n",
    "## 30.5% of language is missing, indicating this may not be a good criteria to segment users."
   ]
  },
  {
   "cell_type": "markdown",
   "id": "190e89cd-2af2-461c-bedd-b23ab0c8f525",
   "metadata": {},
   "source": [
    "# Check duplicated value"
   ]
  },
  {
   "cell_type": "code",
   "execution_count": 11,
   "id": "4d9b2325-afbf-4e27-80b7-6129ec7881f0",
   "metadata": {},
   "outputs": [
    {
     "data": {
      "text/plain": [
       "0"
      ]
     },
     "execution_count": 11,
     "metadata": {},
     "output_type": "execute_result"
    }
   ],
   "source": [
    "# Check duplicate values and check if the primary key is unique\n",
    "user.duplicated().sum()\n",
    "## There's no duplicate in user table."
   ]
  },
  {
   "cell_type": "code",
   "execution_count": 12,
   "id": "05f10521-f94b-497d-9244-93d043117043",
   "metadata": {},
   "outputs": [
    {
     "data": {
      "text/plain": [
       "100000"
      ]
     },
     "execution_count": 12,
     "metadata": {},
     "output_type": "execute_result"
    }
   ],
   "source": [
    "user['ID'].nunique() \n",
    "## Same as the length of the table -- User ID is the primary key and there's no missing nor duplicate value."
   ]
  },
  {
   "cell_type": "markdown",
   "id": "adba01f3-fb93-4936-86ba-a567efb90419",
   "metadata": {},
   "source": [
    "# Check categorical variable and percentage\n",
    "To get a big picture of what user demographic information is included."
   ]
  },
  {
   "cell_type": "code",
   "execution_count": 14,
   "id": "16bc027f-b2c5-412c-9b64-2630c661104f",
   "metadata": {},
   "outputs": [
    {
     "data": {
      "text/plain": [
       "array(['es-419', 'en', nan], dtype=object)"
      ]
     },
     "execution_count": 14,
     "metadata": {},
     "output_type": "execute_result"
    }
   ],
   "source": [
    "user['LANGUAGE'].unique()"
   ]
  },
  {
   "cell_type": "code",
   "execution_count": 15,
   "id": "36572a28-d203-4f4d-990a-b2872f1f5fd4",
   "metadata": {},
   "outputs": [
    {
     "data": {
      "text/plain": [
       "array(['female', nan, 'male', 'non_binary', 'transgender',\n",
       "       'prefer_not_to_say', 'not_listed', 'Non-Binary', 'unknown',\n",
       "       'not_specified', \"My gender isn't listed\", 'Prefer not to say'],\n",
       "      dtype=object)"
      ]
     },
     "execution_count": 15,
     "metadata": {},
     "output_type": "execute_result"
    }
   ],
   "source": [
    "user['GENDER'].unique()"
   ]
  },
  {
   "cell_type": "code",
   "execution_count": 16,
   "id": "9526ac61-4c2f-4808-b4cd-4f301c455872",
   "metadata": {},
   "outputs": [
    {
     "data": {
      "text/plain": [
       "array(['CA', 'PA', 'FL', 'NC', 'NY', 'IN', nan, 'OH', 'TX', 'NM', 'PR',\n",
       "       'CO', 'AZ', 'RI', 'MO', 'NJ', 'MA', 'TN', 'LA', 'NH', 'WI', 'IA',\n",
       "       'GA', 'VA', 'DC', 'KY', 'SC', 'MN', 'WV', 'DE', 'MI', 'IL', 'MS',\n",
       "       'WA', 'KS', 'CT', 'OR', 'UT', 'MD', 'OK', 'NE', 'NV', 'AL', 'AK',\n",
       "       'AR', 'HI', 'ME', 'ND', 'ID', 'WY', 'MT', 'SD', 'VT'], dtype=object)"
      ]
     },
     "execution_count": 16,
     "metadata": {},
     "output_type": "execute_result"
    }
   ],
   "source": [
    "user['STATE'].unique()"
   ]
  },
  {
   "cell_type": "code",
   "execution_count": 20,
   "id": "2db1a980-f893-4132-8ab7-d7a026faec15",
   "metadata": {},
   "outputs": [
    {
     "data": {
      "text/plain": [
       "LANGUAGE\n",
       "en        63.403\n",
       "es-419     6.089\n",
       "Name: count, dtype: float64"
      ]
     },
     "execution_count": 20,
     "metadata": {},
     "output_type": "execute_result"
    }
   ],
   "source": [
    "user['LANGUAGE'].value_counts()/len(user)*100\n",
    "## 63% users who filled language use English"
   ]
  },
  {
   "cell_type": "code",
   "execution_count": 21,
   "id": "5981b9db-e70e-42db-b680-f61050b4b3f0",
   "metadata": {},
   "outputs": [
    {
     "data": {
      "text/plain": [
       "GENDER\n",
       "female                    64.240\n",
       "male                      25.829\n",
       "transgender                1.772\n",
       "prefer_not_to_say          1.350\n",
       "non_binary                 0.473\n",
       "unknown                    0.196\n",
       "not_listed                 0.180\n",
       "Non-Binary                 0.034\n",
       "not_specified              0.028\n",
       "My gender isn't listed     0.005\n",
       "Prefer not to say          0.001\n",
       "Name: count, dtype: float64"
      ]
     },
     "execution_count": 21,
     "metadata": {},
     "output_type": "execute_result"
    }
   ],
   "source": [
    "user['GENDER'].value_counts()/len(user)*100\n",
    "## 64% users who filled gender information is female. "
   ]
  },
  {
   "cell_type": "code",
   "execution_count": 22,
   "id": "bf73bc45-2042-4025-b2e5-d5a523fc26b5",
   "metadata": {
    "scrolled": true
   },
   "outputs": [
    {
     "data": {
      "text/plain": [
       "STATE\n",
       "TX    9.028\n",
       "FL    8.921\n",
       "CA    8.589\n",
       "NY    5.703\n",
       "IL    3.794\n",
       "GA    3.718\n",
       "PA    3.644\n",
       "OH    3.519\n",
       "NC    3.399\n",
       "NJ    2.899\n",
       "MI    2.582\n",
       "VA    2.400\n",
       "IN    2.213\n",
       "TN    2.165\n",
       "AL    1.792\n",
       "SC    1.773\n",
       "KY    1.731\n",
       "AZ    1.728\n",
       "MO    1.652\n",
       "MD    1.636\n",
       "MA    1.523\n",
       "WI    1.389\n",
       "PR    1.361\n",
       "LA    1.290\n",
       "WA    1.234\n",
       "CO    1.139\n",
       "MN    1.125\n",
       "CT    1.110\n",
       "OK    1.100\n",
       "AR    1.011\n",
       "MS    0.960\n",
       "IA    0.933\n",
       "NV    0.837\n",
       "KS    0.835\n",
       "OR    0.700\n",
       "WV    0.674\n",
       "UT    0.593\n",
       "DE    0.492\n",
       "NE    0.487\n",
       "NM    0.452\n",
       "ME    0.368\n",
       "NH    0.359\n",
       "HI    0.350\n",
       "ID    0.350\n",
       "AK    0.297\n",
       "RI    0.284\n",
       "DC    0.241\n",
       "SD    0.205\n",
       "ND    0.185\n",
       "MT    0.169\n",
       "WY    0.138\n",
       "VT    0.111\n",
       "Name: count, dtype: float64"
      ]
     },
     "execution_count": 22,
     "metadata": {},
     "output_type": "execute_result"
    }
   ],
   "source": [
    "user['STATE'].value_counts()/len(user)*100\n",
    "## Users live pretty evenly among the states."
   ]
  },
  {
   "cell_type": "markdown",
   "id": "ddf29485-7a87-4cd5-a04d-688a4f6077a2",
   "metadata": {},
   "source": [
    "# Check date columns \n",
    "1. What year did users create profile? -- From Created_Date\n",
    "2. What's the generation of the users? -- From Birth_Date"
   ]
  },
  {
   "cell_type": "code",
   "execution_count": 5,
   "id": "5c056a16-5062-47d8-93e7-ff1e735b3801",
   "metadata": {},
   "outputs": [],
   "source": [
    "# Extract year from CREATED_DATE and BIRTH_DATE and add a new column\n",
    "user['created_year']=user['CREATED_DATE'].dt.year\n",
    "user['birth_year']=user['BIRTH_DATE'].dt.year"
   ]
  },
  {
   "cell_type": "code",
   "execution_count": 6,
   "id": "dd275965-4ee6-4e7a-bc8a-c4c1219df0cd",
   "metadata": {
    "scrolled": true
   },
   "outputs": [
    {
     "data": {
      "text/plain": [
       "created_year\n",
       "2022    26.807\n",
       "2021    19.159\n",
       "2020    16.883\n",
       "2023    15.464\n",
       "2024    11.631\n",
       "2019     7.093\n",
       "2018     2.168\n",
       "2017     0.644\n",
       "2016     0.070\n",
       "2015     0.051\n",
       "2014     0.030\n",
       "Name: count, dtype: float64"
      ]
     },
     "execution_count": 6,
     "metadata": {},
     "output_type": "execute_result"
    }
   ],
   "source": [
    "create_year_pct=user['created_year'].value_counts()/len(user)*100\n",
    "create_year_pct\n",
    "## It is a dataset that has users from 2014-2024. 26.8% users created profile in 2022, which is the most active year. \n",
    "## Followup quesiton: What did we do in 2021-2022 to attract users? Is there any seasonality?"
   ]
  },
  {
   "cell_type": "code",
   "execution_count": 20,
   "id": "33178f21-4807-45a6-9d05-7a007c465bef",
   "metadata": {},
   "outputs": [
    {
     "data": {
      "image/png": "[encoded data removed]",
      "text/plain": [
       "<Figure size 800x600 with 1 Axes>"
      ]
     },
     "metadata": {},
     "output_type": "display_data"
    }
   ],
   "source": [
    "# Data Visualization for the percentage of users joined each year.\n",
    "create_year_pct=pd.DataFrame(create_year_pct)\n",
    "create_year_pct.columns=['Percentage']\n",
    "plt.figure(figsize=(8,6))\n",
    "# plt.pie(create_year_pct['Percentage'], labels=create_year_pct.index,autopct='%1.0f%%', startangle=140)\n",
    "plt.bar(create_year_pct.index,create_year_pct['Percentage'],color='skyblue')\n",
    "plt.ylabel('Percentage')\n",
    "plt.xlabel('Year')\n",
    "\n",
    "# To show percentage on Y-axis label\n",
    "def to_percent(y, _):\n",
    "    return f'{y:.1f}%' \n",
    "plt.gca().yaxis.set_major_formatter(FuncFormatter(to_percent))\n",
    "plt.title('Percentage of User Joined Each Year')\n",
    "plt.show()"
   ]
  },
  {
   "cell_type": "code",
   "execution_count": 27,
   "id": "24f073b5-eb95-4675-952a-3ec59e732e01",
   "metadata": {},
   "outputs": [
    {
     "data": {
      "text/plain": [
       "birth_year\n",
       "2000.0    5.775\n",
       "1980.0    3.355\n",
       "1982.0    3.155\n",
       "1981.0    2.915\n",
       "1999.0    2.764\n",
       "          ...  \n",
       "1924.0    0.001\n",
       "1922.0    0.001\n",
       "1923.0    0.001\n",
       "2017.0    0.001\n",
       "1907.0    0.001\n",
       "Name: count, Length: 116, dtype: float64"
      ]
     },
     "execution_count": 27,
     "metadata": {},
     "output_type": "execute_result"
    }
   ],
   "source": [
    "user['birth_year'].value_counts()/len(user)*100\n",
    "## There isn't an outstanding generation that could represent the users.\n",
    "## Also found an outlier in 1907 -- need to detect outliers in the next step."
   ]
  },
  {
   "cell_type": "markdown",
   "id": "7835a53d-dcc0-4a84-b7e9-1bc6e7d02070",
   "metadata": {},
   "source": [
    "# Outlier detection"
   ]
  },
  {
   "cell_type": "code",
   "execution_count": 38,
   "id": "ae4eae38-e2d4-4784-9ec6-8ce674d5478d",
   "metadata": {},
   "outputs": [
    {
     "name": "stderr",
     "output_type": "stream",
     "text": [
      "C:\\Users\\YufeiLu\\anaconda3\\Lib\\site-packages\\seaborn\\_oldcore.py:1119: FutureWarning: use_inf_as_na option is deprecated and will be removed in a future version. Convert inf values to NaN before operating instead.\n",
      "  with pd.option_context('mode.use_inf_as_na', True):\n"
     ]
    },
    {
     "data": {
      "image/png": "[encoded data removed]",
      "text/plain": [
       "<Figure size 700x400 with 1 Axes>"
      ]
     },
     "metadata": {},
     "output_type": "display_data"
    }
   ],
   "source": [
    "plt.figure(figsize=(7, 4))\n",
    "sns.kdeplot(user['CREATED_DATE'], bw_adjust=0.5)\n",
    "plt.title('Created Date Distribution (KDE)')\n",
    "plt.xlabel('Created Date')\n",
    "plt.ylabel('Density')\n",
    "plt.xticks(rotation=45)\n",
    "plt.tight_layout()\n",
    "plt.show()"
   ]
  },
  {
   "cell_type": "code",
   "execution_count": 37,
   "id": "a872cd5d-6b01-4506-b1a6-f60f24641cb0",
   "metadata": {},
   "outputs": [
    {
     "name": "stderr",
     "output_type": "stream",
     "text": [
      "C:\\Users\\YufeiLu\\anaconda3\\Lib\\site-packages\\seaborn\\_oldcore.py:1119: FutureWarning: use_inf_as_na option is deprecated and will be removed in a future version. Convert inf values to NaN before operating instead.\n",
      "  with pd.option_context('mode.use_inf_as_na', True):\n"
     ]
    },
    {
     "data": {
      "image/png": "[encoded data removed]",
      "text/plain": [
       "<Figure size 800x400 with 1 Axes>"
      ]
     },
     "metadata": {},
     "output_type": "display_data"
    }
   ],
   "source": [
    "plt.figure(figsize=(8, 4))\n",
    "sns.kdeplot(user['BIRTH_DATE'], bw_adjust=0.5)\n",
    "plt.title('Birth Date Distribution (KDE)')\n",
    "plt.xlabel('Birth Date')\n",
    "plt.ylabel('Density')\n",
    "plt.xticks(rotation=45)\n",
    "plt.tight_layout()\n",
    "plt.show()\n",
    "## "
   ]
  },
  {
   "cell_type": "code",
   "execution_count": 40,
   "id": "a6899319-6aa8-4d04-98b7-a2c0cf5d73e3",
   "metadata": {},
   "outputs": [
    {
     "data": {
      "image/png": "[encoded data removed]",
      "text/plain": [
       "<Figure size 640x480 with 1 Axes>"
      ]
     },
     "metadata": {},
     "output_type": "display_data"
    }
   ],
   "source": [
    "# Identify outliers using boxplot.\n",
    "plt.boxplot(user['birth_year'].dropna())\n",
    "plt.title('Box plot of users birth year')\n",
    "plt.ylabel('Year')\n",
    "plt.show()\n",
    "## We can set a line (e.g. 99.7%) to remove the outliers. This line can be based on both domain knowledge and statisitcal percentage. \n",
    "# However, the birth year outliers can be users just randomly put in a number. \n",
    "# I'd prefer remove the outliers with high percentile and just avoid using this information for important decision."
   ]
  },
  {
   "cell_type": "code",
   "execution_count": 51,
   "id": "ff5a44ac-7f50-44fc-af6c-249a9dc8d6fa",
   "metadata": {},
   "outputs": [
    {
     "name": "stdout",
     "output_type": "stream",
     "text": [
      "1944.0\n"
     ]
    }
   ],
   "source": [
    "lower_bound=user['birth_year'].quantile(0.005)\n",
    "print(lower_bound)\n",
    "# Remove outliers\n",
    "user_cleaned = user[(user['birth_year'] >= lower_bound)]"
   ]
  },
  {
   "cell_type": "markdown",
   "id": "6d2bf02b-a187-49cd-9657-85b72c527d32",
   "metadata": {},
   "source": [
    "# Write cleaned dataframe to csv and save"
   ]
  },
  {
   "cell_type": "code",
   "execution_count": 54,
   "id": "8d0d1a85-b153-45dc-ae87-442e71f48324",
   "metadata": {},
   "outputs": [],
   "source": [
    "# Gets the current working directory\n",
    "original_path = os.getcwd()  \n",
    "\n",
    "# Write DataFrame to CSV in the original path\n",
    "user.to_csv(os.path.join(original_path, 'user.csv'), index=False)"
   ]
  },
  {
   "cell_type": "markdown",
   "id": "49039b4d-c1ce-40de-b0f8-ef3de2b2b570",
   "metadata": {},
   "source": [
    "# Insight\n",
    "1. There is not a specific state that users live in the most. There isn't a main generation of our users, however, most of the users are adult (over 21).\n",
    "2. Users created the profile in 2021-2022 the most. We could use the information to figure out why and how to improve to attract new users.\n",
    "# Issues\n",
    "1. The data types are not very accurate.\n",
    "2. User birth date has some outliers -- could be real outliers or users randomly put in numbers. Need to pay attention when using this piece of information."
   ]
  },
  {
   "cell_type": "code",
   "execution_count": null,
   "id": "0219e3ad-72ee-487d-b777-fa9d1eac42e8",
   "metadata": {},
   "outputs": [],
   "source": []
  }
 ],
 "metadata": {
  "kernelspec": {
   "display_name": "Python 3 (ipykernel)",
   "language": "python",
   "name": "python3"
  },
  "language_info": {
   "codemirror_mode": {
    "name": "ipython",
    "version": 3
   },
   "file_extension": ".py",
   "mimetype": "text/x-python",
   "name": "python",
   "nbconvert_exporter": "python",
   "pygments_lexer": "ipython3",
   "version": "3.11.7"
  }
 },
 "nbformat": 4,
 "nbformat_minor": 5
}
