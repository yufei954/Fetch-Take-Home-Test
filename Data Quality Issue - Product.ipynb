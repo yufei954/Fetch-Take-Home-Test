{
 "cells": [
  {
   "cell_type": "markdown",
   "id": "b113b6b8-28ea-4372-9195-bf5ba13ecbf5",
   "metadata": {},
   "source": [
    "# Import dataset and packages"
   ]
  },
  {
   "cell_type": "code",
   "execution_count": 2,
   "id": "940d0b5e-e675-4793-aa1e-7291f6ebff67",
   "metadata": {},
   "outputs": [],
   "source": [
    "#Import \n",
    "import pandas as pd\n",
    "import numpy as np\n",
    "import matplotlib.pyplot as plt\n",
    "import seaborn as sns\n",
    "import os"
   ]
  },
  {
   "cell_type": "code",
   "execution_count": 3,
   "id": "1f77343f-7eeb-481d-830f-4e35107b6475",
   "metadata": {
    "scrolled": true
   },
   "outputs": [
    {
     "data": {
      "text/html": [
       "<div>\n",
       "<style scoped>\n",
       "    .dataframe tbody tr th:only-of-type {\n",
       "        vertical-align: middle;\n",
       "    }\n",
       "\n",
       "    .dataframe tbody tr th {\n",
       "        vertical-align: top;\n",
       "    }\n",
       "\n",
       "    .dataframe thead th {\n",
       "        text-align: right;\n",
       "    }\n",
       "</style>\n",
       "<table border=\"1\" class=\"dataframe\">\n",
       "  <thead>\n",
       "    <tr style=\"text-align: right;\">\n",
       "      <th></th>\n",
       "      <th>CATEGORY_1</th>\n",
       "      <th>CATEGORY_2</th>\n",
       "      <th>CATEGORY_3</th>\n",
       "      <th>CATEGORY_4</th>\n",
       "      <th>MANUFACTURER</th>\n",
       "      <th>BRAND</th>\n",
       "      <th>BARCODE</th>\n",
       "    </tr>\n",
       "  </thead>\n",
       "  <tbody>\n",
       "    <tr>\n",
       "      <th>0</th>\n",
       "      <td>Health &amp; Wellness</td>\n",
       "      <td>Sexual Health</td>\n",
       "      <td>Conductivity Gels &amp; Lotions</td>\n",
       "      <td>NaN</td>\n",
       "      <td>NaN</td>\n",
       "      <td>NaN</td>\n",
       "      <td>7.964944e+11</td>\n",
       "    </tr>\n",
       "    <tr>\n",
       "      <th>1</th>\n",
       "      <td>Snacks</td>\n",
       "      <td>Puffed Snacks</td>\n",
       "      <td>Cheese Curls &amp; Puffs</td>\n",
       "      <td>NaN</td>\n",
       "      <td>NaN</td>\n",
       "      <td>NaN</td>\n",
       "      <td>2.327801e+10</td>\n",
       "    </tr>\n",
       "    <tr>\n",
       "      <th>2</th>\n",
       "      <td>Health &amp; Wellness</td>\n",
       "      <td>Hair Care</td>\n",
       "      <td>Hair Care Accessories</td>\n",
       "      <td>NaN</td>\n",
       "      <td>PLACEHOLDER MANUFACTURER</td>\n",
       "      <td>ELECSOP</td>\n",
       "      <td>4.618178e+11</td>\n",
       "    </tr>\n",
       "    <tr>\n",
       "      <th>3</th>\n",
       "      <td>Health &amp; Wellness</td>\n",
       "      <td>Oral Care</td>\n",
       "      <td>Toothpaste</td>\n",
       "      <td>NaN</td>\n",
       "      <td>COLGATE-PALMOLIVE</td>\n",
       "      <td>COLGATE</td>\n",
       "      <td>3.500047e+10</td>\n",
       "    </tr>\n",
       "    <tr>\n",
       "      <th>4</th>\n",
       "      <td>Health &amp; Wellness</td>\n",
       "      <td>Medicines &amp; Treatments</td>\n",
       "      <td>Essential Oils</td>\n",
       "      <td>NaN</td>\n",
       "      <td>MAPLE HOLISTICS AND HONEYDEW PRODUCTS INTERCHA...</td>\n",
       "      <td>MAPLE HOLISTICS</td>\n",
       "      <td>8.068109e+11</td>\n",
       "    </tr>\n",
       "  </tbody>\n",
       "</table>\n",
       "</div>"
      ],
      "text/plain": [
       "          CATEGORY_1              CATEGORY_2                   CATEGORY_3  \\\n",
       "0  Health & Wellness           Sexual Health  Conductivity Gels & Lotions   \n",
       "1             Snacks           Puffed Snacks         Cheese Curls & Puffs   \n",
       "2  Health & Wellness               Hair Care        Hair Care Accessories   \n",
       "3  Health & Wellness               Oral Care                   Toothpaste   \n",
       "4  Health & Wellness  Medicines & Treatments               Essential Oils   \n",
       "\n",
       "  CATEGORY_4                                       MANUFACTURER  \\\n",
       "0        NaN                                                NaN   \n",
       "1        NaN                                                NaN   \n",
       "2        NaN                           PLACEHOLDER MANUFACTURER   \n",
       "3        NaN                                  COLGATE-PALMOLIVE   \n",
       "4        NaN  MAPLE HOLISTICS AND HONEYDEW PRODUCTS INTERCHA...   \n",
       "\n",
       "             BRAND       BARCODE  \n",
       "0              NaN  7.964944e+11  \n",
       "1              NaN  2.327801e+10  \n",
       "2          ELECSOP  4.618178e+11  \n",
       "3          COLGATE  3.500047e+10  \n",
       "4  MAPLE HOLISTICS  8.068109e+11  "
      ]
     },
     "execution_count": 3,
     "metadata": {},
     "output_type": "execute_result"
    }
   ],
   "source": [
    "product=pd.read_csv('C:/Users/YufeiLu/Downloads/PRODUCTS_TAKEHOME.csv')\n",
    "product.head()"
   ]
  },
  {
   "cell_type": "code",
   "execution_count": 4,
   "id": "877ab957-43f7-4308-b360-78eb6599c213",
   "metadata": {},
   "outputs": [
    {
     "name": "stdout",
     "output_type": "stream",
     "text": [
      "<class 'pandas.core.frame.DataFrame'>\n",
      "RangeIndex: 845552 entries, 0 to 845551\n",
      "Data columns (total 7 columns):\n",
      " #   Column        Non-Null Count   Dtype  \n",
      "---  ------        --------------   -----  \n",
      " 0   CATEGORY_1    845441 non-null  object \n",
      " 1   CATEGORY_2    844128 non-null  object \n",
      " 2   CATEGORY_3    784986 non-null  object \n",
      " 3   CATEGORY_4    67459 non-null   object \n",
      " 4   MANUFACTURER  619078 non-null  object \n",
      " 5   BRAND         619080 non-null  object \n",
      " 6   BARCODE       841527 non-null  float64\n",
      "dtypes: float64(1), object(6)\n",
      "memory usage: 45.2+ MB\n"
     ]
    }
   ],
   "source": [
    "product.info()"
   ]
  },
  {
   "cell_type": "markdown",
   "id": "d0ddc112-2ca2-4dc3-9bd8-3c3da12acb4c",
   "metadata": {},
   "source": [
    "# Check datatypes and change if necessary"
   ]
  },
  {
   "cell_type": "code",
   "execution_count": 6,
   "id": "0c28299e-1902-4d6c-bfae-878a3e425a2e",
   "metadata": {},
   "outputs": [
    {
     "data": {
      "text/plain": [
       "CATEGORY_1       object\n",
       "CATEGORY_2       object\n",
       "CATEGORY_3       object\n",
       "CATEGORY_4       object\n",
       "MANUFACTURER     object\n",
       "BRAND            object\n",
       "BARCODE         float64\n",
       "dtype: object"
      ]
     },
     "execution_count": 6,
     "metadata": {},
     "output_type": "execute_result"
    }
   ],
   "source": [
    "product.dtypes\n",
    "## Barcode should be string"
   ]
  },
  {
   "cell_type": "code",
   "execution_count": 5,
   "id": "2db7bad2-751a-4678-b65a-ea5bf34b703b",
   "metadata": {},
   "outputs": [],
   "source": [
    "# Better to convert BARCODE to str type in case there's potential leading zero or non-numerical characters.\n",
    "product['BARCODE']=product['BARCODE'].astype(str)"
   ]
  },
  {
   "cell_type": "markdown",
   "id": "28b6009e-e804-437f-9b50-f8aecfff226a",
   "metadata": {},
   "source": [
    "# Check missing value"
   ]
  },
  {
   "cell_type": "code",
   "execution_count": 14,
   "id": "2126e12e-9bf8-4250-b6ae-b2d14d9f2449",
   "metadata": {},
   "outputs": [
    {
     "data": {
      "text/plain": [
       "CATEGORY_1         111\n",
       "CATEGORY_2        1424\n",
       "CATEGORY_3       60566\n",
       "CATEGORY_4      778093\n",
       "MANUFACTURER    226474\n",
       "BRAND           226472\n",
       "BARCODE              0\n",
       "dtype: int64"
      ]
     },
     "execution_count": 14,
     "metadata": {},
     "output_type": "execute_result"
    }
   ],
   "source": [
    "product.isnull().sum()\n",
    "## There's no missing value in BARCODE. Check the unique value to see if it is the primary key.\n",
    "## There're missing values in other columns. Check the percentage of missing values in each column."
   ]
  },
  {
   "cell_type": "code",
   "execution_count": 9,
   "id": "745c55fd-a469-422f-b6e6-2ea8aa8498fb",
   "metadata": {},
   "outputs": [
    {
     "data": {
      "text/plain": [
       "841343"
      ]
     },
     "execution_count": 9,
     "metadata": {},
     "output_type": "execute_result"
    }
   ],
   "source": [
    "product['BARCODE'].nunique()\n",
    "## It is not the same as the length of the table. Check if there's any duplicated value."
   ]
  },
  {
   "cell_type": "code",
   "execution_count": 17,
   "id": "601314c6-528c-4602-9fb1-d2e7d8df3209",
   "metadata": {},
   "outputs": [
    {
     "data": {
      "text/plain": [
       "4209"
      ]
     },
     "execution_count": 17,
     "metadata": {},
     "output_type": "execute_result"
    }
   ],
   "source": [
    "product['BARCODE'].duplicated().sum()\n",
    "## May need to remove some duplicated value. Address later."
   ]
  },
  {
   "cell_type": "code",
   "execution_count": 18,
   "id": "5e9abeb2-9f78-4284-9c95-caef801cabdd",
   "metadata": {},
   "outputs": [
    {
     "data": {
      "text/plain": [
       "CATEGORY_1       0.013128\n",
       "CATEGORY_2       0.168411\n",
       "CATEGORY_3       7.162895\n",
       "CATEGORY_4      92.021898\n",
       "MANUFACTURER    26.784160\n",
       "BRAND           26.783923\n",
       "BARCODE          0.000000\n",
       "dtype: float64"
      ]
     },
     "execution_count": 18,
     "metadata": {},
     "output_type": "execute_result"
    }
   ],
   "source": [
    "# What's the percentage of missing value in each column? This helps to decide what product information would be informative in later analysis. \n",
    "product.isnull().mean() * 100\n",
    "## Category_1 has the least missing value - it could be a good piece of information. \n",
    "## 92% of Category_4 is missing - wonder the definition of this category and is it still what we need to include in the database?"
   ]
  },
  {
   "cell_type": "markdown",
   "id": "8105eb3a-cb48-4e04-b12c-d43239b405cd",
   "metadata": {},
   "source": [
    "# Check duplicated value"
   ]
  },
  {
   "cell_type": "code",
   "execution_count": 20,
   "id": "f6a90c30-d4ad-45b9-8f19-be82460702e5",
   "metadata": {},
   "outputs": [
    {
     "data": {
      "text/plain": [
       "215"
      ]
     },
     "execution_count": 20,
     "metadata": {},
     "output_type": "execute_result"
    }
   ],
   "source": [
    "product.duplicated().sum()\n",
    "## Remove duplicated rows."
   ]
  },
  {
   "cell_type": "code",
   "execution_count": 6,
   "id": "07c5b0d6-78c6-47c9-9991-7df3629169ec",
   "metadata": {},
   "outputs": [],
   "source": [
    "product_nodup=product.drop_duplicates()"
   ]
  },
  {
   "cell_type": "markdown",
   "id": "01d85900-8e1a-4c8d-a946-4d9642fcdc4a",
   "metadata": {},
   "source": [
    "# Examine categorical variables"
   ]
  },
  {
   "cell_type": "code",
   "execution_count": 7,
   "id": "396e7f98-c79c-4b60-b83f-1cb436d60669",
   "metadata": {
    "scrolled": true
   },
   "outputs": [
    {
     "data": {
      "text/plain": [
       "CATEGORY_1\n",
       "Health & Wellness         60.648712\n",
       "Snacks                    38.403856\n",
       "Beverages                  0.471883\n",
       "Pantry                     0.102918\n",
       "Apparel & Accessories      0.100078\n",
       "Dairy                      0.071214\n",
       "Needs Review               0.064708\n",
       "Alcohol                    0.059385\n",
       "Home & Garden              0.013604\n",
       "Deli & Bakery              0.008162\n",
       "Frozen                     0.007334\n",
       "Meat & Seafood             0.005797\n",
       "Sporting Goods             0.005560\n",
       "Office & School            0.005323\n",
       "Restaurant                 0.004850\n",
       "Toys & Games               0.003312\n",
       "Household Supplies         0.002839\n",
       "Produce                    0.002366\n",
       "Animals & Pet Supplies     0.001893\n",
       "Arts & Entertainment       0.000828\n",
       "Electronics                0.000591\n",
       "Mature                     0.000355\n",
       "Vehicles & Parts           0.000355\n",
       "Baby & Toddler             0.000355\n",
       "Beauty                     0.000237\n",
       "Media                      0.000237\n",
       "Luggage & Bags             0.000118\n",
       "Name: count, dtype: float64"
      ]
     },
     "execution_count": 7,
     "metadata": {},
     "output_type": "execute_result"
    }
   ],
   "source": [
    "# Gives us a big picture of what the products are and how we can use the data wisely.\n",
    "category1_pct=product_nodup['CATEGORY_1'].value_counts()/len(product_nodup)*100\n",
    "category1_pct\n",
    "## 60% of the product belongs to Health & Wellness, follow up by Snacks. "
   ]
  },
  {
   "cell_type": "code",
   "execution_count": 16,
   "id": "fb757828-bbb4-41bd-8207-a815b0ca110f",
   "metadata": {},
   "outputs": [],
   "source": [
    "category1_pct=pd.DataFrame(category1_pct)\n",
    "category1_pct.columns=['Percentage']"
   ]
  },
  {
   "cell_type": "code",
   "execution_count": 23,
   "id": "3280d0d1-117b-4aa3-8216-407edf183e60",
   "metadata": {},
   "outputs": [
    {
     "name": "stderr",
     "output_type": "stream",
     "text": [
      "C:\\Users\\YufeiLu\\AppData\\Local\\Temp\\ipykernel_19872\\208409964.py:6: FutureWarning: Series.__getitem__ treating keys as positions is deprecated. In a future version, integer keys will always be treated as labels (consistent with DataFrame behavior). To access a value by position, use `ser.iloc[pos]`\n",
      "  plt.text(index, value + 1, f\"{top5_category1['Percentage'][index]:.1f}%\", ha='center')\n"
     ]
    },
    {
     "data": {
      "text/plain": [
       "Text(0.5, 1.0, 'Top 5 Most Products Category - Category 1')"
      ]
     },
     "execution_count": 23,
     "metadata": {},
     "output_type": "execute_result"
    },
    {
     "data": {
      "image/png": "[encoded data removed]",
      "text/plain": [
       "<Figure size 640x480 with 1 Axes>"
      ]
     },
     "metadata": {},
     "output_type": "display_data"
    }
   ],
   "source": [
    "# Data Visualization to show top 5 categories\n",
    "top5_category1=category1_pct.nlargest(5,'Percentage') # Get top 5 categories\n",
    "plt.bar(top5_category1.index, top5_category1['Percentage'], color='skyblue') # Bar chart\n",
    "\n",
    "for index, value in enumerate(top5_category1['Percentage']):\n",
    "    plt.text(index, value + 1, f\"{top5_category1['Percentage'][index]:.1f}%\", ha='center')\n",
    "\n",
    "plt.xlabel('Category 1')\n",
    "plt.ylabel('Percentage')\n",
    "plt.title('Top 5 Most Products Category - Category 1')"
   ]
  },
  {
   "cell_type": "code",
   "execution_count": 24,
   "id": "7cc4c229-cabf-4fc2-9132-b953e2a61f2a",
   "metadata": {},
   "outputs": [
    {
     "data": {
      "text/plain": [
       "CATEGORY_2\n",
       "Candy                      14.301752\n",
       "Hair Care                  13.187877\n",
       "Medicines & Treatments     11.724791\n",
       "Bath & Body                 9.637458\n",
       "Skin Care                   7.403438\n",
       "                             ...    \n",
       "Games                       0.000118\n",
       "Vehicle Storage & Cargo     0.000118\n",
       "Audio                       0.000118\n",
       "Pasta & Noodles             0.000118\n",
       "Baby Transport              0.000118\n",
       "Name: count, Length: 121, dtype: float64"
      ]
     },
     "execution_count": 24,
     "metadata": {},
     "output_type": "execute_result"
    }
   ],
   "source": [
    "category2_pct=product_nodup['CATEGORY_2'].value_counts()/len(product_nodup)*100\n",
    "category2_pct\n",
    "## Category 2 is still relatively imformative, consider there's only 16% missing value."
   ]
  },
  {
   "cell_type": "code",
   "execution_count": 29,
   "id": "85ce3519-f3cc-42c0-8543-3dde2e4537a2",
   "metadata": {},
   "outputs": [
    {
     "name": "stderr",
     "output_type": "stream",
     "text": [
      "C:\\Users\\YufeiLu\\AppData\\Local\\Temp\\ipykernel_19872\\1933961009.py:9: FutureWarning: Series.__getitem__ treating keys as positions is deprecated. In a future version, integer keys will always be treated as labels (consistent with DataFrame behavior). To access a value by position, use `ser.iloc[pos]`\n",
      "  plt.text(index, value + 1, f\"{top5_category2['Percentage'][index]:.1f}%\", ha='center')\n"
     ]
    },
    {
     "data": {
      "text/plain": [
       "(0.0, 19.301751845713603)"
      ]
     },
     "execution_count": 29,
     "metadata": {},
     "output_type": "execute_result"
    },
    {
     "data": {
      "image/png": "[encoded data removed]",
      "text/plain": [
       "<Figure size 800x600 with 1 Axes>"
      ]
     },
     "metadata": {},
     "output_type": "display_data"
    }
   ],
   "source": [
    "# Convert to dataframe\n",
    "category2_pct=pd.DataFrame(category2_pct)\n",
    "category2_pct.columns=['Percentage']\n",
    "# Data Visualization to show top 5 categories\n",
    "top5_category2=category2_pct.nlargest(5,'Percentage') # Get top 5 categories\n",
    "plt.figure(figsize=(8,6))\n",
    "plt.bar(top5_category2.index, top5_category2['Percentage'], color='skyblue') # Bar chart\n",
    "\n",
    "for index, value in enumerate(top5_category2['Percentage']):\n",
    "    plt.text(index, value + 1, f\"{top5_category2['Percentage'][index]:.1f}%\", ha='center')\n",
    "\n",
    "plt.xlabel('Category 2')\n",
    "plt.ylabel('Percentage')\n",
    "plt.title('Top 5 Most Products Category - Category 2')\n",
    "plt.tight_layout()\n",
    "plt.ylim(0, category2_pct['Percentage'].max() + 5)\n",
    "\n",
    "## Category 2 is more spread out -- there's no an outstanding category that has the most products."
   ]
  },
  {
   "cell_type": "code",
   "execution_count": 24,
   "id": "4f8fb331-baec-45c4-99ce-23460863a169",
   "metadata": {},
   "outputs": [],
   "source": [
    "# Brand and Manufacture information are missing 26% values. I would prefer to more informative variables."
   ]
  },
  {
   "cell_type": "markdown",
   "id": "341c78e1-8dc1-43be-91b7-7858e26cbc46",
   "metadata": {},
   "source": [
    "# Write cleaned dataframe to csv and save"
   ]
  },
  {
   "cell_type": "code",
   "execution_count": 27,
   "id": "8d4fe5fe-f082-4467-b062-7e8aec76d250",
   "metadata": {},
   "outputs": [],
   "source": [
    "# Gets the current working directory\n",
    "original_path = os.getcwd()  \n",
    "\n",
    "# Write DataFrame to CSV in the original path\n",
    "product.to_csv(os.path.join(original_path, 'product.csv'), index=False)"
   ]
  },
  {
   "cell_type": "markdown",
   "id": "779398d4-7ab5-4558-b292-126de7f12955",
   "metadata": {},
   "source": [
    "# Insights\n",
    "1. 60% of products are in Health & Wellness category.\n",
    "2. Category 2 is more spread out, there is no an outstanding category that has the most products.\n",
    "# Issue\n",
    "1. The datatypes are not very accurate.\n",
    "2. 26.7% of the values are missing in Manufacturer and Brand and 92% of the values are missing in  Category 4. What's the definition of Category 4 and do we still need this variable?\n",
    "3. Probably need to solve the missing values first if we are interested in the brand/manufacturer information,"
   ]
  },
  {
   "cell_type": "code",
   "execution_count": null,
   "id": "5c4cfa8c-3edb-428d-b51c-8fe4c5046831",
   "metadata": {},
   "outputs": [],
   "source": []
  }
 ],
 "metadata": {
  "kernelspec": {
   "display_name": "Python 3 (ipykernel)",
   "language": "python",
   "name": "python3"
  },
  "language_info": {
   "codemirror_mode": {
    "name": "ipython",
    "version": 3
   },
   "file_extension": ".py",
   "mimetype": "text/x-python",
   "name": "python",
   "nbconvert_exporter": "python",
   "pygments_lexer": "ipython3",
   "version": "3.11.7"
  }
 },
 "nbformat": 4,
 "nbformat_minor": 5
}
